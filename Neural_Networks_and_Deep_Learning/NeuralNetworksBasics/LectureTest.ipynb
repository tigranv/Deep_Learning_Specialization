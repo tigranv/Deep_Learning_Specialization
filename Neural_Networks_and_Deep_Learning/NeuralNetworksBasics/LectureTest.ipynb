{
 "cells": [
  {
   "cell_type": "markdown",
   "metadata": {},
   "source": [
    "### Vectorization"
   ]
  },
  {
   "cell_type": "code",
   "execution_count": 2,
   "metadata": {},
   "outputs": [
    {
     "name": "stdout",
     "output_type": "stream",
     "text": [
      "[1 2 3 4]\n"
     ]
    }
   ],
   "source": [
    "import numpy as np\n",
    "import time \n",
    "\n",
    "a = np.array([1,2,3,4])\n",
    "print(a)"
   ]
  },
  {
   "cell_type": "code",
   "execution_count": 9,
   "metadata": {},
   "outputs": [
    {
     "name": "stdout",
     "output_type": "stream",
     "text": [
      "Vectorized version: 0.9717941284179688 ms\n",
      "For loop version: 478.0383110046387 ms\n"
     ]
    }
   ],
   "source": [
    "a = np.random.rand(1000000)\n",
    "b = np.random.rand(1000000)\n",
    "\n",
    "tic = time.time()\n",
    "c = np.dot(a,b)\n",
    "toc = time.time()\n",
    "\n",
    "print(\"Vectorized version: {0} ms\".format(str(1000*(toc-tic))))\n",
    "\n",
    "c = 0\n",
    "tic = time.time()\n",
    "\n",
    "for i in range(1000000):\n",
    "    c+=a[i]*b[i]\n",
    "    \n",
    "toc = time.time()\n",
    "\n",
    "print(\"For loop version: {0} ms\".format(str(1000*(toc-tic))))\n"
   ]
  },
  {
   "cell_type": "markdown",
   "metadata": {},
   "source": [
    "### Broadcasting\n"
   ]
  },
  {
   "cell_type": "code",
   "execution_count": 10,
   "metadata": {},
   "outputs": [
    {
     "name": "stdout",
     "output_type": "stream",
     "text": [
      "[[ 56.    0.    4.4  68. ]\n",
      " [  1.2 104.   52.    8. ]\n",
      " [  1.8 135.   99.    0.9]]\n"
     ]
    }
   ],
   "source": [
    "A = np.array([[56.0, 0.0, 4.4, 68.0],\n",
    "             [1.2, 104.0, 52.0, 8.0],\n",
    "             [1.8, 135.0, 99.0, 0.9]])\n",
    "print(A)"
   ]
  },
  {
   "cell_type": "code",
   "execution_count": 11,
   "metadata": {},
   "outputs": [
    {
     "data": {
      "text/plain": [
       "array([ 59. , 239. , 155.4,  76.9])"
      ]
     },
     "execution_count": 11,
     "metadata": {},
     "output_type": "execute_result"
    }
   ],
   "source": [
    "cal = A.sum(axis = 0)\n",
    "cal"
   ]
  },
  {
   "cell_type": "code",
   "execution_count": 14,
   "metadata": {},
   "outputs": [],
   "source": [
    "percentage = 100*A/cal.reshape(1, 4)"
   ]
  },
  {
   "cell_type": "code",
   "execution_count": 15,
   "metadata": {},
   "outputs": [
    {
     "data": {
      "text/plain": [
       "array([[94.91525424,  0.        ,  2.83140283, 88.42652796],\n",
       "       [ 2.03389831, 43.51464435, 33.46203346, 10.40312094],\n",
       "       [ 3.05084746, 56.48535565, 63.70656371,  1.17035111]])"
      ]
     },
     "execution_count": 15,
     "metadata": {},
     "output_type": "execute_result"
    }
   ],
   "source": [
    "percentage"
   ]
  },
  {
   "cell_type": "code",
   "execution_count": 21,
   "metadata": {},
   "outputs": [
    {
     "name": "stdout",
     "output_type": "stream",
     "text": [
      "[[-0.53782015 -0.69505151 -0.62177777 ... -0.53256204 -1.05836972\n",
      "  -0.21965485]\n",
      " [ 0.24153034  1.39799069 -1.10647162 ...  0.35598672  0.46519284\n",
      "   1.44279032]\n",
      " [-0.80288546 -0.2256073   0.04306516 ... -1.62985308  2.53494639\n",
      "   0.14516817]\n",
      " ...\n",
      " [ 0.6740916   0.26830449  0.94866451 ... -0.34606571  1.22464703\n",
      "   1.71185701]\n",
      " [-0.75608231 -0.94511832  0.26933687 ... -2.21263744  0.99039964\n",
      "   0.99033076]\n",
      " [-0.51834384  1.03874641 -1.19977448 ... -0.1567949  -0.46338638\n",
      "   0.453581  ]]\n",
      "[[-1.14558362 -0.88460885  1.50526877 ... -0.25647761 -1.76646559\n",
      "  -1.43608461]\n",
      " [-0.32907045  0.23407564 -0.18107407 ...  0.34369973 -0.10779666\n",
      "  -0.98067496]\n",
      " [-0.71882062  1.60278301  1.08769121 ...  1.10011498  0.07919473\n",
      "   1.34399417]\n",
      " ...\n",
      " [ 2.20755303 -0.64070415  1.90942083 ... -1.3976545  -0.38964883\n",
      "   0.97217103]\n",
      " [-0.03975188 -0.32068296 -0.02973411 ...  0.91252297 -0.8533032\n",
      "   0.86253679]\n",
      " [ 0.05517075 -0.1010163   2.09105782 ...  1.16495017 -0.39721052\n",
      "  -0.8880723 ]]\n"
     ]
    },
    {
     "data": {
      "text/plain": [
       "(12288, 45)"
      ]
     },
     "execution_count": 21,
     "metadata": {},
     "output_type": "execute_result"
    }
   ],
   "source": [
    "a = np.random.randn(12288, 150)\n",
    "b = np.random.randn(150, 45)\n",
    "print(a)\n",
    "print(b)\n",
    "c = np.dot(a, b)\n",
    "c.shape"
   ]
  },
  {
   "cell_type": "code",
   "execution_count": 23,
   "metadata": {},
   "outputs": [
    {
     "name": "stdout",
     "output_type": "stream",
     "text": [
      "[[ 0.15824423 -0.35592226 -1.07793035]\n",
      " [ 2.4553467  -1.04004128 -0.16708604]\n",
      " [-1.0538755   1.28950438 -0.01034349]]\n",
      "[[-0.2381374 ]\n",
      " [-0.48977655]\n",
      " [-0.01700773]]\n"
     ]
    },
    {
     "data": {
      "text/plain": [
       "array([[-3.76838702e-02,  8.47584016e-02,  2.56695533e-01],\n",
       "       [-1.20257123e+00,  5.09387829e-01,  8.18348231e-02],\n",
       "       [ 1.79240320e-02, -2.19315450e-02,  1.75919245e-04]])"
      ]
     },
     "execution_count": 23,
     "metadata": {},
     "output_type": "execute_result"
    }
   ],
   "source": [
    "a = np.random.randn(3, 3)\n",
    "b = np.random.randn(3, 1)\n",
    "print(a)\n",
    "print(b)\n",
    "c = a*b\n",
    "c"
   ]
  },
  {
   "cell_type": "code",
   "execution_count": null,
   "metadata": {},
   "outputs": [],
   "source": []
  },
  {
   "cell_type": "code",
   "execution_count": null,
   "metadata": {},
   "outputs": [],
   "source": []
  }
 ],
 "metadata": {
  "kernelspec": {
   "display_name": "Python 3",
   "language": "python",
   "name": "python3"
  },
  "language_info": {
   "codemirror_mode": {
    "name": "ipython",
    "version": 3
   },
   "file_extension": ".py",
   "mimetype": "text/x-python",
   "name": "python",
   "nbconvert_exporter": "python",
   "pygments_lexer": "ipython3",
   "version": "3.6.5"
  }
 },
 "nbformat": 4,
 "nbformat_minor": 2
}
